{
 "cells": [
  {
   "cell_type": "code",
   "execution_count": 3,
   "metadata": {},
   "outputs": [],
   "source": [
    "#create 2017 electricity price ref\n",
    "import pandas as pd\n",
    "import datetime\n",
    "import os\n",
    "\n",
    "def check_public_holiday(date_time):\n",
    "    return\n",
    "\n",
    "def get_price(time_):\n",
    "    if peak_start_time <= time_ < peak_end_time:\n",
    "        price = peak_price\n",
    "    elif shoulder_start1_time <= time_ < shoulder_end1_time or shoulder_start2_time <= time_ < shoulder_end2_time:\n",
    "        price = shouder_price\n",
    "    else:\n",
    "        price = off_peak_price\n",
    "    return price\n",
    "\n",
    "def time_price(date_time_):\n",
    "    weekday_ = date_time_.weekday()\n",
    "    time_ = date_time_.time()   \n",
    "    if weekday_ == 5 or weekday_ == 6:\n",
    "        price = off_peak_price\n",
    "    else:\n",
    "        price = get_price(time_)\n",
    "    return price\n",
    "\n",
    "source_price_file = os.getcwd() + '/Price_data.csv'\n",
    "ref_price_file = os.getcwd() + '/Price_data_2018.csv'\n",
    "ele_price = pd.read_csv(source_price_file)\n",
    "\n",
    "peak_price =  0.5229\n",
    "off_peak_price =  0.2213\n",
    "shouder_price = 0.3228 \n",
    "\n",
    "#generate constrain set\n",
    "\n",
    "peak_start = '14:00'\n",
    "peak_end = '20:00'\n",
    "shoulder_start1 = '7:00'\n",
    "shoulder_end1 = '14:00'\n",
    "shoulder_start2 = '20:00'\n",
    "shoulder_end2 = '22:00'\n",
    "\n",
    "peak_start_time = datetime.datetime.strptime(peak_start, '%H:%M').time()\n",
    "peak_end_time = datetime.datetime.strptime(peak_end, '%H:%M').time()\n",
    "shoulder_start1_time = datetime.datetime.strptime(shoulder_start1, '%H:%M').time()\n",
    "shoulder_end1_time = datetime.datetime.strptime(shoulder_end1, '%H:%M').time()\n",
    "shoulder_start2_time = datetime.datetime.strptime(shoulder_start2, '%H:%M').time()\n",
    "shoulder_end2_time = datetime.datetime.strptime(shoulder_end2, '%H:%M').time()\n",
    "user_price = []\n",
    "for n in ele_price.SETTLEMENTDATE:\n",
    "    date_time_ = datetime.datetime.strptime(n, \"%d/%m/%y %H:%M\")\n",
    "    price = time_price(date_time_)\n",
    "    user_price_ = {'spot_price': price}\n",
    "    user_price.append(user_price_)\n",
    "ele_price['spot_price'] = pd.DataFrame(user_price)\n",
    "ele_price['RRP_MainGrid_KWh'] = ele_price['RRP_MainGrid_KWh'] \n",
    "#ele_price = ele_price.rename(columns = {'RRP_MainGrid_KWh','spot_price'})\n",
    "ele_price.to_csv(ref_price_file, encoding='utf-8', index=False)"
   ]
  },
  {
   "cell_type": "code",
   "execution_count": 6,
   "metadata": {},
   "outputs": [
    {
     "data": {
      "text/plain": [
       "17520"
      ]
     },
     "execution_count": 6,
     "metadata": {},
     "output_type": "execute_result"
    }
   ],
   "source": [
    "len(ele_price)"
   ]
  },
  {
   "cell_type": "code",
   "execution_count": null,
   "metadata": {},
   "outputs": [],
   "source": []
  }
 ],
 "metadata": {
  "kernelspec": {
   "display_name": "Python 3",
   "language": "python",
   "name": "python3"
  },
  "language_info": {
   "codemirror_mode": {
    "name": "ipython",
    "version": 3
   },
   "file_extension": ".py",
   "mimetype": "text/x-python",
   "name": "python",
   "nbconvert_exporter": "python",
   "pygments_lexer": "ipython3",
   "version": "3.7.0"
  }
 },
 "nbformat": 4,
 "nbformat_minor": 2
}
